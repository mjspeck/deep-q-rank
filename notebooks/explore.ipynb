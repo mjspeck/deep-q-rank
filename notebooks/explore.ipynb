{
 "cells": [
  {
   "cell_type": "code",
   "execution_count": 1,
   "metadata": {},
   "outputs": [
    {
     "data": {
      "text/plain": [
       "'/Users/mattspeck/Development/Cynnovative/siege/deep-q-rank/deep-q-rank/notebooks'"
      ]
     },
     "execution_count": 1,
     "metadata": {},
     "output_type": "execute_result"
    }
   ],
   "source": [
    "import os\n",
    "from pathlib import Path\n",
    "\n",
    "from dqr.util.preprocess import load_letor\n",
    "\n",
    "os.getcwd()"
   ]
  },
  {
   "cell_type": "code",
   "execution_count": 2,
   "metadata": {},
   "outputs": [
    {
     "name": "stdout",
     "output_type": "stream",
     "text": [
      "Done with 60000 lines\n",
      "Done with 120000 lines\n",
      "Done with 180000 lines\n",
      "Done with 240000 lines\n",
      "Done with 300000 lines\n",
      "Done with 360000 lines\n",
      "Done with 420000 lines\n",
      "Done with 480000 lines\n",
      "Done with 540000 lines\n"
     ]
    }
   ],
   "source": [
    "letor_path = Path(\"../../MQ2008-list/Fold1/train.txt\")\n",
    "df = load_letor(letor_path)\n",
    "\n",
    "# df = load_letor(letor_path)\n"
   ]
  },
  {
   "cell_type": "code",
   "execution_count": 11,
   "metadata": {},
   "outputs": [
    {
     "data": {
      "text/html": [
       "<div>\n",
       "<style scoped>\n",
       "    .dataframe tbody tr th:only-of-type {\n",
       "        vertical-align: middle;\n",
       "    }\n",
       "\n",
       "    .dataframe tbody tr th {\n",
       "        vertical-align: top;\n",
       "    }\n",
       "\n",
       "    .dataframe thead th {\n",
       "        text-align: right;\n",
       "    }\n",
       "</style>\n",
       "<table border=\"1\" class=\"dataframe\">\n",
       "  <thead>\n",
       "    <tr style=\"text-align: right;\">\n",
       "      <th></th>\n",
       "      <th>1</th>\n",
       "      <th>qid</th>\n",
       "      <th>rank</th>\n",
       "      <th>doc_id</th>\n",
       "      <th>2</th>\n",
       "      <th>3</th>\n",
       "      <th>4</th>\n",
       "      <th>5</th>\n",
       "      <th>6</th>\n",
       "      <th>7</th>\n",
       "      <th>...</th>\n",
       "      <th>37</th>\n",
       "      <th>38</th>\n",
       "      <th>39</th>\n",
       "      <th>40</th>\n",
       "      <th>41</th>\n",
       "      <th>42</th>\n",
       "      <th>43</th>\n",
       "      <th>44</th>\n",
       "      <th>45</th>\n",
       "      <th>46</th>\n",
       "    </tr>\n",
       "  </thead>\n",
       "  <tbody>\n",
       "    <tr>\n",
       "      <th>539317</th>\n",
       "      <td>0.199049</td>\n",
       "      <td>15925</td>\n",
       "      <td>1362</td>\n",
       "      <td>GX015-93-9287729</td>\n",
       "      <td>0.090909</td>\n",
       "      <td>0.5</td>\n",
       "      <td>0.0</td>\n",
       "      <td>0.199577</td>\n",
       "      <td>0.0</td>\n",
       "      <td>0.0</td>\n",
       "      <td>...</td>\n",
       "      <td>0.819446</td>\n",
       "      <td>0.898365</td>\n",
       "      <td>0.973129</td>\n",
       "      <td>0.905888</td>\n",
       "      <td>0.250</td>\n",
       "      <td>0.063158</td>\n",
       "      <td>0.0</td>\n",
       "      <td>0.000534</td>\n",
       "      <td>0.000675</td>\n",
       "      <td>0.0</td>\n",
       "    </tr>\n",
       "    <tr>\n",
       "      <th>539318</th>\n",
       "      <td>0.138159</td>\n",
       "      <td>15925</td>\n",
       "      <td>1361</td>\n",
       "      <td>GX039-10-0258489</td>\n",
       "      <td>0.090909</td>\n",
       "      <td>0.0</td>\n",
       "      <td>0.0</td>\n",
       "      <td>0.138291</td>\n",
       "      <td>0.0</td>\n",
       "      <td>0.0</td>\n",
       "      <td>...</td>\n",
       "      <td>0.871066</td>\n",
       "      <td>0.941121</td>\n",
       "      <td>0.998494</td>\n",
       "      <td>0.941966</td>\n",
       "      <td>0.250</td>\n",
       "      <td>0.057895</td>\n",
       "      <td>0.0</td>\n",
       "      <td>0.000023</td>\n",
       "      <td>0.000338</td>\n",
       "      <td>0.0</td>\n",
       "    </tr>\n",
       "    <tr>\n",
       "      <th>539319</th>\n",
       "      <td>0.171180</td>\n",
       "      <td>15925</td>\n",
       "      <td>1360</td>\n",
       "      <td>GX061-61-5124799</td>\n",
       "      <td>0.000000</td>\n",
       "      <td>0.0</td>\n",
       "      <td>0.0</td>\n",
       "      <td>0.171180</td>\n",
       "      <td>0.0</td>\n",
       "      <td>0.0</td>\n",
       "      <td>...</td>\n",
       "      <td>0.848084</td>\n",
       "      <td>0.912135</td>\n",
       "      <td>0.977855</td>\n",
       "      <td>0.912432</td>\n",
       "      <td>0.250</td>\n",
       "      <td>0.089474</td>\n",
       "      <td>0.0</td>\n",
       "      <td>0.000518</td>\n",
       "      <td>0.000338</td>\n",
       "      <td>0.0</td>\n",
       "    </tr>\n",
       "    <tr>\n",
       "      <th>539320</th>\n",
       "      <td>0.150575</td>\n",
       "      <td>15925</td>\n",
       "      <td>1359</td>\n",
       "      <td>GX254-82-0329970</td>\n",
       "      <td>0.000000</td>\n",
       "      <td>0.0</td>\n",
       "      <td>0.0</td>\n",
       "      <td>0.150575</td>\n",
       "      <td>0.0</td>\n",
       "      <td>0.0</td>\n",
       "      <td>...</td>\n",
       "      <td>0.847055</td>\n",
       "      <td>0.919493</td>\n",
       "      <td>0.980464</td>\n",
       "      <td>0.919286</td>\n",
       "      <td>0.250</td>\n",
       "      <td>0.089474</td>\n",
       "      <td>0.0</td>\n",
       "      <td>0.000528</td>\n",
       "      <td>0.000675</td>\n",
       "      <td>0.0</td>\n",
       "    </tr>\n",
       "    <tr>\n",
       "      <th>539321</th>\n",
       "      <td>0.383833</td>\n",
       "      <td>15925</td>\n",
       "      <td>1358</td>\n",
       "      <td>GX256-68-6674364</td>\n",
       "      <td>0.000000</td>\n",
       "      <td>0.0</td>\n",
       "      <td>0.0</td>\n",
       "      <td>0.383833</td>\n",
       "      <td>0.0</td>\n",
       "      <td>0.0</td>\n",
       "      <td>...</td>\n",
       "      <td>0.805499</td>\n",
       "      <td>0.936584</td>\n",
       "      <td>0.993030</td>\n",
       "      <td>0.918746</td>\n",
       "      <td>0.125</td>\n",
       "      <td>0.047368</td>\n",
       "      <td>0.0</td>\n",
       "      <td>0.000263</td>\n",
       "      <td>0.000675</td>\n",
       "      <td>0.0</td>\n",
       "    </tr>\n",
       "  </tbody>\n",
       "</table>\n",
       "<p>5 rows × 49 columns</p>\n",
       "</div>"
      ],
      "text/plain": [
       "               1    qid  rank             doc_id         2    3    4  \\\n",
       "539317  0.199049  15925  1362   GX015-93-9287729  0.090909  0.5  0.0   \n",
       "539318  0.138159  15925  1361   GX039-10-0258489  0.090909  0.0  0.0   \n",
       "539319  0.171180  15925  1360   GX061-61-5124799  0.000000  0.0  0.0   \n",
       "539320  0.150575  15925  1359   GX254-82-0329970  0.000000  0.0  0.0   \n",
       "539321  0.383833  15925  1358   GX256-68-6674364  0.000000  0.0  0.0   \n",
       "\n",
       "               5    6    7  ...        37        38        39        40  \\\n",
       "539317  0.199577  0.0  0.0  ...  0.819446  0.898365  0.973129  0.905888   \n",
       "539318  0.138291  0.0  0.0  ...  0.871066  0.941121  0.998494  0.941966   \n",
       "539319  0.171180  0.0  0.0  ...  0.848084  0.912135  0.977855  0.912432   \n",
       "539320  0.150575  0.0  0.0  ...  0.847055  0.919493  0.980464  0.919286   \n",
       "539321  0.383833  0.0  0.0  ...  0.805499  0.936584  0.993030  0.918746   \n",
       "\n",
       "           41        42   43        44        45   46  \n",
       "539317  0.250  0.063158  0.0  0.000534  0.000675  0.0  \n",
       "539318  0.250  0.057895  0.0  0.000023  0.000338  0.0  \n",
       "539319  0.250  0.089474  0.0  0.000518  0.000338  0.0  \n",
       "539320  0.250  0.089474  0.0  0.000528  0.000675  0.0  \n",
       "539321  0.125  0.047368  0.0  0.000263  0.000675  0.0  \n",
       "\n",
       "[5 rows x 49 columns]"
      ]
     },
     "execution_count": 11,
     "metadata": {},
     "output_type": "execute_result"
    }
   ],
   "source": [
    "df.head()"
   ]
  },
  {
   "cell_type": "code",
   "execution_count": 4,
   "metadata": {},
   "outputs": [],
   "source": [
    "# lines = []\n",
    "# with open(letor_path) as f:\n",
    "#     lines = [line for line in f.readlines()]"
   ]
  },
  {
   "cell_type": "code",
   "execution_count": null,
   "metadata": {},
   "outputs": [],
   "source": [
    "# lines[0]"
   ]
  },
  {
   "cell_type": "code",
   "execution_count": 15,
   "metadata": {},
   "outputs": [
    {
     "data": {
      "application/vnd.jupyter.widget-view+json": {
       "model_id": "89ed6e13ced64a998e5a1e5e554bb52b",
       "version_major": 2,
       "version_minor": 0
      },
      "text/plain": [
       "  0%|          | 0/10000 [00:00<?, ?it/s]"
      ]
     },
     "metadata": {},
     "output_type": "display_data"
    }
   ],
   "source": [
    "import pandas as pd\n",
    "from tqdm.notebook import tqdm\n",
    "\n",
    "letor_path = Path(\"../../istella-letor/full/train.txt\")\n",
    "\n",
    "def load_istella_letor(filepath: Path, cutoff: int = 10_000) -> pd.DataFrame:\n",
    "    observations = []\n",
    "    lens = []\n",
    "    with open(filepath) as f:\n",
    "        for line in tqdm(f.readlines()[:cutoff]):\n",
    "            obs = {}\n",
    "            vals = line.strip(\"\\n\").split()\n",
    "            obs[\"relevance_label\"] = int(vals[0])\n",
    "            obs[\"qid\"] = int(vals[1].split(\":\")[1])\n",
    "            for val in vals[2:]:\n",
    "                feat, val_ = val.split(\":\")\n",
    "                obs[feat] = float(val_)\n",
    "            observations.append(obs)\n",
    "            lens.append(len(obs))\n",
    "    unique_lens = set(lens)\n",
    "    assert len(unique_lens) == 1\n",
    "    df = pd.DataFrame.from_records(observations)\n",
    "    return df\n",
    "\n",
    "df = load_istella_letor(letor_path)"
   ]
  },
  {
   "cell_type": "code",
   "execution_count": 19,
   "metadata": {},
   "outputs": [
    {
     "data": {
      "text/plain": [
       "array([0, 1, 3, 4, 2])"
      ]
     },
     "execution_count": 19,
     "metadata": {},
     "output_type": "execute_result"
    }
   ],
   "source": [
    "df[\"relevance_label\"].unique()"
   ]
  },
  {
   "cell_type": "markdown",
   "metadata": {},
   "source": [
    "## Exploring losses file"
   ]
  },
  {
   "cell_type": "code",
   "execution_count": 21,
   "metadata": {},
   "outputs": [],
   "source": [
    "with open(\"../outputs/Mon Oct 21 11:17:14 2024/losses.txt\") as f:\n",
    "    losses = f.readlines()\n",
    "    train_losses = eval(losses[1])\n",
    "    val_losses = eval(losses[4])"
   ]
  },
  {
   "cell_type": "code",
   "execution_count": 30,
   "metadata": {},
   "outputs": [
    {
     "data": {
      "image/png": "[encoded data removed]",
      "text/plain": [
       "<Figure size 640x480 with 1 Axes>"
      ]
     },
     "metadata": {},
     "output_type": "display_data"
    }
   ],
   "source": [
    "import matplotlib.pyplot as plt\n",
    "import numpy as np\n",
    "\n",
    "\n",
    "# filtered = train_losses[:811] + train_losses[812:]\n",
    "# plt.hist(filtered)\n",
    "plt.boxplot(train_losses)\n",
    "plt.show()"
   ]
  },
  {
   "cell_type": "code",
   "execution_count": null,
   "metadata": {},
   "outputs": [],
   "source": []
  }
 ],
 "metadata": {
  "kernelspec": {
   "display_name": ".venv",
   "language": "python",
   "name": "python3"
  },
  "language_info": {
   "codemirror_mode": {
    "name": "ipython",
    "version": 3
   },
   "file_extension": ".py",
   "mimetype": "text/x-python",
   "name": "python",
   "nbconvert_exporter": "python",
   "pygments_lexer": "ipython3",
   "version": "3.10.13"
  }
 },
 "nbformat": 4,
 "nbformat_minor": 2
}
